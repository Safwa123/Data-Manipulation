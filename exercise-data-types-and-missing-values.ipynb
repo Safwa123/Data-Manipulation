{
 "cells": [
  {
   "cell_type": "markdown",
   "id": "ae9b771b",
   "metadata": {
    "papermill": {
     "duration": 0.00452,
     "end_time": "2022-07-10T17:42:46.132578",
     "exception": false,
     "start_time": "2022-07-10T17:42:46.128058",
     "status": "completed"
    },
    "tags": []
   },
   "source": [
    "**This notebook is an exercise in the [Pandas](https://www.kaggle.com/learn/pandas) course.  You can reference the tutorial at [this link](https://www.kaggle.com/residentmario/data-types-and-missing-values).**\n",
    "\n",
    "---\n"
   ]
  },
  {
   "cell_type": "markdown",
   "id": "eac3efb2",
   "metadata": {
    "papermill": {
     "duration": 0.003159,
     "end_time": "2022-07-10T17:42:46.139413",
     "exception": false,
     "start_time": "2022-07-10T17:42:46.136254",
     "status": "completed"
    },
    "tags": []
   },
   "source": [
    "# Introduction\n",
    "\n",
    "Run the following cell to load your data and some utility functions."
   ]
  },
  {
   "cell_type": "code",
   "execution_count": 1,
   "id": "c2bc4401",
   "metadata": {
    "execution": {
     "iopub.execute_input": "2022-07-10T17:42:46.149138Z",
     "iopub.status.busy": "2022-07-10T17:42:46.148469Z",
     "iopub.status.idle": "2022-07-10T17:42:48.839148Z",
     "shell.execute_reply": "2022-07-10T17:42:48.837837Z"
    },
    "papermill": {
     "duration": 2.699897,
     "end_time": "2022-07-10T17:42:48.842892",
     "exception": false,
     "start_time": "2022-07-10T17:42:46.142995",
     "status": "completed"
    },
    "tags": []
   },
   "outputs": [
    {
     "name": "stdout",
     "output_type": "stream",
     "text": [
      "Setup complete.\n"
     ]
    }
   ],
   "source": [
    "import pandas as pd\n",
    "\n",
    "reviews = pd.read_csv(\"../input/wine-reviews/winemag-data-130k-v2.csv\", index_col=0)\n",
    "\n",
    "from learntools.core import binder; binder.bind(globals())\n",
    "from learntools.pandas.data_types_and_missing_data import *\n",
    "print(\"Setup complete.\")"
   ]
  },
  {
   "cell_type": "markdown",
   "id": "b978ccf2",
   "metadata": {
    "papermill": {
     "duration": 0.003252,
     "end_time": "2022-07-10T17:42:48.850129",
     "exception": false,
     "start_time": "2022-07-10T17:42:48.846877",
     "status": "completed"
    },
    "tags": []
   },
   "source": [
    "# Exercises"
   ]
  },
  {
   "cell_type": "markdown",
   "id": "f6c595e6",
   "metadata": {
    "papermill": {
     "duration": 0.003372,
     "end_time": "2022-07-10T17:42:48.857115",
     "exception": false,
     "start_time": "2022-07-10T17:42:48.853743",
     "status": "completed"
    },
    "tags": []
   },
   "source": [
    "## 1. \n",
    "What is the data type of the `points` column in the dataset?"
   ]
  },
  {
   "cell_type": "code",
   "execution_count": 2,
   "id": "bc926a77",
   "metadata": {
    "execution": {
     "iopub.execute_input": "2022-07-10T17:42:48.866502Z",
     "iopub.status.busy": "2022-07-10T17:42:48.865652Z",
     "iopub.status.idle": "2022-07-10T17:42:48.876408Z",
     "shell.execute_reply": "2022-07-10T17:42:48.875694Z"
    },
    "papermill": {
     "duration": 0.017291,
     "end_time": "2022-07-10T17:42:48.878103",
     "exception": false,
     "start_time": "2022-07-10T17:42:48.860812",
     "status": "completed"
    },
    "tags": []
   },
   "outputs": [
    {
     "data": {
      "application/javascript": [
       "parent.postMessage({\"jupyterEvent\": \"custom.exercise_interaction\", \"data\": {\"outcomeType\": 1, \"valueTowardsCompletion\": 0.25, \"interactionType\": 1, \"questionType\": 1, \"questionId\": \"1_PointsDtype\", \"learnToolsVersion\": \"0.3.4\", \"failureMessage\": \"\", \"exceptionClass\": \"\", \"trace\": \"\"}}, \"*\")"
      ],
      "text/plain": [
       "<IPython.core.display.Javascript object>"
      ]
     },
     "metadata": {},
     "output_type": "display_data"
    },
    {
     "data": {
      "text/markdown": [
       "<span style=\"color:#33cc33\">Correct</span>"
      ],
      "text/plain": [
       "Correct"
      ]
     },
     "metadata": {},
     "output_type": "display_data"
    }
   ],
   "source": [
    "# Your code here\n",
    "dtype = reviews.points.dtype\n",
    "# Check your answer\n",
    "q1.check()"
   ]
  },
  {
   "cell_type": "code",
   "execution_count": 3,
   "id": "bef18935",
   "metadata": {
    "execution": {
     "iopub.execute_input": "2022-07-10T17:42:48.888563Z",
     "iopub.status.busy": "2022-07-10T17:42:48.887995Z",
     "iopub.status.idle": "2022-07-10T17:42:48.891425Z",
     "shell.execute_reply": "2022-07-10T17:42:48.890619Z"
    },
    "papermill": {
     "duration": 0.011032,
     "end_time": "2022-07-10T17:42:48.893376",
     "exception": false,
     "start_time": "2022-07-10T17:42:48.882344",
     "status": "completed"
    },
    "tags": []
   },
   "outputs": [],
   "source": [
    "#q1.hint()\n",
    "#q1.solution()"
   ]
  },
  {
   "cell_type": "markdown",
   "id": "119a4c26",
   "metadata": {
    "papermill": {
     "duration": 0.003547,
     "end_time": "2022-07-10T17:42:48.900820",
     "exception": false,
     "start_time": "2022-07-10T17:42:48.897273",
     "status": "completed"
    },
    "tags": []
   },
   "source": [
    "## 2. \n",
    "Create a Series from entries in the `points` column, but convert the entries to strings. Hint: strings are `str` in native Python."
   ]
  },
  {
   "cell_type": "code",
   "execution_count": 4,
   "id": "1ba35cce",
   "metadata": {
    "execution": {
     "iopub.execute_input": "2022-07-10T17:42:48.910236Z",
     "iopub.status.busy": "2022-07-10T17:42:48.909822Z",
     "iopub.status.idle": "2022-07-10T17:42:48.992788Z",
     "shell.execute_reply": "2022-07-10T17:42:48.991752Z"
    },
    "papermill": {
     "duration": 0.090506,
     "end_time": "2022-07-10T17:42:48.995299",
     "exception": false,
     "start_time": "2022-07-10T17:42:48.904793",
     "status": "completed"
    },
    "tags": []
   },
   "outputs": [
    {
     "data": {
      "application/javascript": [
       "parent.postMessage({\"jupyterEvent\": \"custom.exercise_interaction\", \"data\": {\"outcomeType\": 1, \"valueTowardsCompletion\": 0.25, \"interactionType\": 1, \"questionType\": 1, \"questionId\": \"2_StrPoints\", \"learnToolsVersion\": \"0.3.4\", \"failureMessage\": \"\", \"exceptionClass\": \"\", \"trace\": \"\"}}, \"*\")"
      ],
      "text/plain": [
       "<IPython.core.display.Javascript object>"
      ]
     },
     "metadata": {},
     "output_type": "display_data"
    },
    {
     "data": {
      "text/markdown": [
       "<span style=\"color:#33cc33\">Correct</span>"
      ],
      "text/plain": [
       "Correct"
      ]
     },
     "metadata": {},
     "output_type": "display_data"
    }
   ],
   "source": [
    "point_strings = reviews.points.astype('str')\n",
    "\n",
    "# Check your answer\n",
    "q2.check()"
   ]
  },
  {
   "cell_type": "code",
   "execution_count": 5,
   "id": "becefd1d",
   "metadata": {
    "execution": {
     "iopub.execute_input": "2022-07-10T17:42:49.005131Z",
     "iopub.status.busy": "2022-07-10T17:42:49.004397Z",
     "iopub.status.idle": "2022-07-10T17:42:49.008971Z",
     "shell.execute_reply": "2022-07-10T17:42:49.007817Z"
    },
    "papermill": {
     "duration": 0.011782,
     "end_time": "2022-07-10T17:42:49.011062",
     "exception": false,
     "start_time": "2022-07-10T17:42:48.999280",
     "status": "completed"
    },
    "tags": []
   },
   "outputs": [],
   "source": [
    "#q2.hint()\n",
    "#q2.solution()"
   ]
  },
  {
   "cell_type": "markdown",
   "id": "39cd70c1",
   "metadata": {
    "papermill": {
     "duration": 0.00379,
     "end_time": "2022-07-10T17:42:49.019143",
     "exception": false,
     "start_time": "2022-07-10T17:42:49.015353",
     "status": "completed"
    },
    "tags": []
   },
   "source": [
    "## 3.\n",
    "Sometimes the price column is null. How many reviews in the dataset are missing a price?"
   ]
  },
  {
   "cell_type": "code",
   "execution_count": 6,
   "id": "0004143d",
   "metadata": {
    "execution": {
     "iopub.execute_input": "2022-07-10T17:42:49.029456Z",
     "iopub.status.busy": "2022-07-10T17:42:49.028662Z",
     "iopub.status.idle": "2022-07-10T17:42:49.045817Z",
     "shell.execute_reply": "2022-07-10T17:42:49.044699Z"
    },
    "papermill": {
     "duration": 0.024819,
     "end_time": "2022-07-10T17:42:49.048039",
     "exception": false,
     "start_time": "2022-07-10T17:42:49.023220",
     "status": "completed"
    },
    "tags": []
   },
   "outputs": [
    {
     "data": {
      "application/javascript": [
       "parent.postMessage({\"jupyterEvent\": \"custom.exercise_interaction\", \"data\": {\"outcomeType\": 1, \"valueTowardsCompletion\": 0.25, \"interactionType\": 1, \"questionType\": 1, \"questionId\": \"3_CountMissingPrices\", \"learnToolsVersion\": \"0.3.4\", \"failureMessage\": \"\", \"exceptionClass\": \"\", \"trace\": \"\"}}, \"*\")"
      ],
      "text/plain": [
       "<IPython.core.display.Javascript object>"
      ]
     },
     "metadata": {},
     "output_type": "display_data"
    },
    {
     "data": {
      "text/markdown": [
       "<span style=\"color:#33cc33\">Correct</span>"
      ],
      "text/plain": [
       "Correct"
      ]
     },
     "metadata": {},
     "output_type": "display_data"
    }
   ],
   "source": [
    "n_missing_prices = len(reviews[reviews.price.isnull()])\n",
    "\n",
    "# Check your answer\n",
    "q3.check()"
   ]
  },
  {
   "cell_type": "code",
   "execution_count": 7,
   "id": "5efffc27",
   "metadata": {
    "execution": {
     "iopub.execute_input": "2022-07-10T17:42:49.058543Z",
     "iopub.status.busy": "2022-07-10T17:42:49.058160Z",
     "iopub.status.idle": "2022-07-10T17:42:49.062798Z",
     "shell.execute_reply": "2022-07-10T17:42:49.061624Z"
    },
    "papermill": {
     "duration": 0.012632,
     "end_time": "2022-07-10T17:42:49.065144",
     "exception": false,
     "start_time": "2022-07-10T17:42:49.052512",
     "status": "completed"
    },
    "tags": []
   },
   "outputs": [],
   "source": [
    "#q3.hint()\n",
    "#q3.solution()"
   ]
  },
  {
   "cell_type": "markdown",
   "id": "2c5028f8",
   "metadata": {
    "papermill": {
     "duration": 0.004156,
     "end_time": "2022-07-10T17:42:49.073577",
     "exception": false,
     "start_time": "2022-07-10T17:42:49.069421",
     "status": "completed"
    },
    "tags": []
   },
   "source": [
    "## 4.\n",
    "What are the most common wine-producing regions? Create a Series counting the number of times each value occurs in the `region_1` field. This field is often missing data, so replace missing values with `Unknown`. Sort in descending order.  Your output should look something like this:\n",
    "\n",
    "```\n",
    "Unknown                    21247\n",
    "Napa Valley                 4480\n",
    "                           ...  \n",
    "Bardolino Superiore            1\n",
    "Primitivo del Tarantino        1\n",
    "Name: region_1, Length: 1230, dtype: int64\n",
    "```"
   ]
  },
  {
   "cell_type": "code",
   "execution_count": 8,
   "id": "5a3b9150",
   "metadata": {
    "execution": {
     "iopub.execute_input": "2022-07-10T17:42:49.083814Z",
     "iopub.status.busy": "2022-07-10T17:42:49.083409Z",
     "iopub.status.idle": "2022-07-10T17:42:49.128341Z",
     "shell.execute_reply": "2022-07-10T17:42:49.127156Z"
    },
    "papermill": {
     "duration": 0.052707,
     "end_time": "2022-07-10T17:42:49.130713",
     "exception": false,
     "start_time": "2022-07-10T17:42:49.078006",
     "status": "completed"
    },
    "tags": []
   },
   "outputs": [
    {
     "data": {
      "application/javascript": [
       "parent.postMessage({\"jupyterEvent\": \"custom.exercise_interaction\", \"data\": {\"outcomeType\": 1, \"valueTowardsCompletion\": 0.25, \"interactionType\": 1, \"questionType\": 2, \"questionId\": \"4_ReviewsPerRegion\", \"learnToolsVersion\": \"0.3.4\", \"failureMessage\": \"\", \"exceptionClass\": \"\", \"trace\": \"\"}}, \"*\")"
      ],
      "text/plain": [
       "<IPython.core.display.Javascript object>"
      ]
     },
     "metadata": {},
     "output_type": "display_data"
    },
    {
     "data": {
      "text/markdown": [
       "<span style=\"color:#33cc33\">Correct</span>"
      ],
      "text/plain": [
       "Correct"
      ]
     },
     "metadata": {},
     "output_type": "display_data"
    }
   ],
   "source": [
    "reviews_clean = reviews\n",
    "reviews_clean.region_1 = reviews_clean.region_1.fillna(\"Unknown\")\n",
    "reviews_per_region = reviews_clean.region_1.value_counts()\n",
    "reviews_per_region\n",
    "\n",
    "# Check your answer\n",
    "q4.check()"
   ]
  },
  {
   "cell_type": "code",
   "execution_count": 9,
   "id": "7b86edcb",
   "metadata": {
    "execution": {
     "iopub.execute_input": "2022-07-10T17:42:49.141449Z",
     "iopub.status.busy": "2022-07-10T17:42:49.140795Z",
     "iopub.status.idle": "2022-07-10T17:42:49.145286Z",
     "shell.execute_reply": "2022-07-10T17:42:49.144210Z"
    },
    "papermill": {
     "duration": 0.012599,
     "end_time": "2022-07-10T17:42:49.147656",
     "exception": false,
     "start_time": "2022-07-10T17:42:49.135057",
     "status": "completed"
    },
    "tags": []
   },
   "outputs": [],
   "source": [
    "#q4.hint()\n",
    "#q4.solution()"
   ]
  },
  {
   "cell_type": "markdown",
   "id": "1cc82c1c",
   "metadata": {
    "papermill": {
     "duration": 0.004096,
     "end_time": "2022-07-10T17:42:49.156182",
     "exception": false,
     "start_time": "2022-07-10T17:42:49.152086",
     "status": "completed"
    },
    "tags": []
   },
   "source": [
    "# Keep going\n",
    "\n",
    "Move on to **[renaming and combining](https://www.kaggle.com/residentmario/renaming-and-combining)**."
   ]
  },
  {
   "cell_type": "markdown",
   "id": "2378d74e",
   "metadata": {
    "papermill": {
     "duration": 0.004369,
     "end_time": "2022-07-10T17:42:49.165633",
     "exception": false,
     "start_time": "2022-07-10T17:42:49.161264",
     "status": "completed"
    },
    "tags": []
   },
   "source": [
    "---\n",
    "\n",
    "\n",
    "\n",
    "\n",
    "*Have questions or comments? Visit the [course discussion forum](https://www.kaggle.com/learn/pandas/discussion) to chat with other learners.*"
   ]
  }
 ],
 "metadata": {
  "kernelspec": {
   "display_name": "Python 3",
   "language": "python",
   "name": "python3"
  },
  "language_info": {
   "codemirror_mode": {
    "name": "ipython",
    "version": 3
   },
   "file_extension": ".py",
   "mimetype": "text/x-python",
   "name": "python",
   "nbconvert_exporter": "python",
   "pygments_lexer": "ipython3",
   "version": "3.7.12"
  },
  "papermill": {
   "default_parameters": {},
   "duration": 12.999673,
   "end_time": "2022-07-10T17:42:49.892779",
   "environment_variables": {},
   "exception": null,
   "input_path": "__notebook__.ipynb",
   "output_path": "__notebook__.ipynb",
   "parameters": {},
   "start_time": "2022-07-10T17:42:36.893106",
   "version": "2.3.4"
  }
 },
 "nbformat": 4,
 "nbformat_minor": 5
}
